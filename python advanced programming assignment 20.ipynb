{
 "cells": [
  {
   "cell_type": "code",
   "execution_count": null,
   "id": "a201f40d",
   "metadata": {},
   "outputs": [],
   "source": [
    "Q.1. Create a function based on the input and output. Look at the examples, there is a pattern.\n",
    "\n",
    "Examples\n",
    "secret(&quot;p.one.two.three&quot;) ➞ &quot;&lt;p class=&#39;one two three&#39;&gt;&lt;/p&gt;&quot;\n",
    "secret(&quot;p.one&quot;) ➞ &quot;&lt;p class=&#39;one&#39;&gt;&lt;/p&gt;&quot;\n",
    "secret(&quot;p.four.five&quot;) ➞ &quot;&lt;p class=&#39;four five&#39;&gt;&lt;/p&gt;&quot;"
   ]
  },
  {
   "cell_type": "code",
   "execution_count": 3,
   "id": "174dcd8d",
   "metadata": {},
   "outputs": [],
   "source": [
    "def secret(s):\n",
    "    s1=s.replace(\".\",\" \")[2:]\n",
    "    n=\" \"\n",
    "    n=n.replace(\"str\",s1)\n",
    "    return n"
   ]
  },
  {
   "cell_type": "code",
   "execution_count": 4,
   "id": "69d54e92",
   "metadata": {},
   "outputs": [
    {
     "data": {
      "text/plain": [
       "' '"
      ]
     },
     "execution_count": 4,
     "metadata": {},
     "output_type": "execute_result"
    }
   ],
   "source": [
    "secret(\"p.one.two.three\")"
   ]
  },
  {
   "cell_type": "code",
   "execution_count": 5,
   "id": "e619135b",
   "metadata": {},
   "outputs": [
    {
     "data": {
      "text/plain": [
       "' '"
      ]
     },
     "execution_count": 5,
     "metadata": {},
     "output_type": "execute_result"
    }
   ],
   "source": [
    "secret(\"p.one\")"
   ]
  },
  {
   "cell_type": "code",
   "execution_count": 6,
   "id": "8486e395",
   "metadata": {},
   "outputs": [
    {
     "data": {
      "text/plain": [
       "' '"
      ]
     },
     "execution_count": 6,
     "metadata": {},
     "output_type": "execute_result"
    }
   ],
   "source": [
    "secret(\"p.four.five\")"
   ]
  },
  {
   "cell_type": "code",
   "execution_count": null,
   "id": "5463b21b",
   "metadata": {},
   "outputs": [],
   "source": [
    "Q.2. Create a function which counts how many lone 1s appear in a given number. Lone means the number doesn't appear twice or more in a row.\n",
    "\n",
    "Examples\n",
    "\n",
    "count_lone_ones(101) ➞ 2\n",
    "\n",
    "count_lone_ones(1191) ➞ 1\n",
    "\n",
    "count_lone_ones(1111) ➞ 0\n",
    "\n",
    "count_lone_ones(462) ➞ 0"
   ]
  },
  {
   "cell_type": "code",
   "execution_count": 7,
   "id": "abd8df2d",
   "metadata": {},
   "outputs": [],
   "source": [
    "def count_lone_ones(num):\n",
    "    count=0\n",
    "    lst=[int(i) for i in str(num)]\n",
    "    if lst[0]==1 and lst[1]!=1:\n",
    "        count+=1\n",
    "    if lst[-2]!=1 and lst[-1]==1:\n",
    "        count+=1\n",
    "    for i in range(1,len(lst)-2):\n",
    "        if lst[i]==1:\n",
    "            if lst[i-1]!=1 and lst[i+1]!=1:\n",
    "                count+=1\n",
    "    return count"
   ]
  },
  {
   "cell_type": "code",
   "execution_count": 8,
   "id": "90ede913",
   "metadata": {},
   "outputs": [
    {
     "data": {
      "text/plain": [
       "2"
      ]
     },
     "execution_count": 8,
     "metadata": {},
     "output_type": "execute_result"
    }
   ],
   "source": [
    "count_lone_ones(101)"
   ]
  },
  {
   "cell_type": "code",
   "execution_count": 9,
   "id": "965acc15",
   "metadata": {},
   "outputs": [
    {
     "data": {
      "text/plain": [
       "1"
      ]
     },
     "execution_count": 9,
     "metadata": {},
     "output_type": "execute_result"
    }
   ],
   "source": [
    "count_lone_ones(1191)"
   ]
  },
  {
   "cell_type": "code",
   "execution_count": 10,
   "id": "5406a395",
   "metadata": {},
   "outputs": [
    {
     "data": {
      "text/plain": [
       "0"
      ]
     },
     "execution_count": 10,
     "metadata": {},
     "output_type": "execute_result"
    }
   ],
   "source": [
    "count_lone_ones(1111)"
   ]
  },
  {
   "cell_type": "code",
   "execution_count": 11,
   "id": "014c7a58",
   "metadata": {},
   "outputs": [
    {
     "data": {
      "text/plain": [
       "0"
      ]
     },
     "execution_count": 11,
     "metadata": {},
     "output_type": "execute_result"
    }
   ],
   "source": [
    "count_lone_ones(462)"
   ]
  },
  {
   "cell_type": "code",
   "execution_count": null,
   "id": "ffe397f0",
   "metadata": {},
   "outputs": [],
   "source": [
    "Q. 3. Write a method that accepts two integer parameters rows and cols. The output is a 2d array of numbers displayed in column-major order, meaning the numbers shown increase sequentially down each column and wrap to the top of the next column to the right once the bottom of the current column is reached."
   ]
  },
  {
   "cell_type": "code",
   "execution_count": 12,
   "id": "293db658",
   "metadata": {},
   "outputs": [],
   "source": [
    "def printGrid(rows,cols):\n",
    "    \n",
    "    rows,cols=cols,rows\n",
    "    arr=[]\n",
    "    x=1\n",
    "    for i in range(rows):\n",
    "        col = []\n",
    "        for j in range(cols):\n",
    "            col.append(x)\n",
    "            x+=1\n",
    "        arr.append(col)\n",
    "    l2 =[[row[i] for row in arr] for i in range(len(arr[0]))]\n",
    "    return l2"
   ]
  },
  {
   "cell_type": "code",
   "execution_count": 13,
   "id": "b2d7a349",
   "metadata": {},
   "outputs": [
    {
     "data": {
      "text/plain": [
       "[[1, 4, 7, 10, 13, 16], [2, 5, 8, 11, 14, 17], [3, 6, 9, 12, 15, 18]]"
      ]
     },
     "execution_count": 13,
     "metadata": {},
     "output_type": "execute_result"
    }
   ],
   "source": [
    "printGrid(3, 6)"
   ]
  },
  {
   "cell_type": "code",
   "execution_count": 14,
   "id": "07bfe203",
   "metadata": {},
   "outputs": [
    {
     "data": {
      "text/plain": [
       "[[1, 6, 11], [2, 7, 12], [3, 8, 13], [4, 9, 14], [5, 10, 15]]"
      ]
     },
     "execution_count": 14,
     "metadata": {},
     "output_type": "execute_result"
    }
   ],
   "source": [
    "printGrid(5, 3)"
   ]
  },
  {
   "cell_type": "code",
   "execution_count": 15,
   "id": "6d0d1d37",
   "metadata": {},
   "outputs": [
    {
     "data": {
      "text/plain": [
       "[[1], [2], [3], [4]]"
      ]
     },
     "execution_count": 15,
     "metadata": {},
     "output_type": "execute_result"
    }
   ],
   "source": [
    "printGrid(4, 1)"
   ]
  },
  {
   "cell_type": "code",
   "execution_count": null,
   "id": "b2b7bedd",
   "metadata": {},
   "outputs": [],
   "source": [
    "Q.4. Given a list of integers, return the smallest positive integer not present in the list."
   ]
  },
  {
   "cell_type": "code",
   "execution_count": 16,
   "id": "114a3cf0",
   "metadata": {},
   "outputs": [],
   "source": [
    "def min_miss_pos(lst):\n",
    "    pos=[i for i in range(1,11)]\n",
    "    for i in lst:\n",
    "        if i <0:\n",
    "            lst.remove(i)\n",
    "    lst=list(set(pos).difference(lst))\n",
    "    lst.sort()\n",
    "    return lst[0]"
   ]
  },
  {
   "cell_type": "code",
   "execution_count": 17,
   "id": "64446312",
   "metadata": {},
   "outputs": [
    {
     "data": {
      "text/plain": [
       "8"
      ]
     },
     "execution_count": 17,
     "metadata": {},
     "output_type": "execute_result"
    }
   ],
   "source": [
    "min_miss_pos([-2, 6, 4, 5, 7, -1, 1, 3, 6, -2, 9, 10, 2, 2])"
   ]
  },
  {
   "cell_type": "code",
   "execution_count": 18,
   "id": "37fbac34",
   "metadata": {},
   "outputs": [
    {
     "data": {
      "text/plain": [
       "2"
      ]
     },
     "execution_count": 18,
     "metadata": {},
     "output_type": "execute_result"
    }
   ],
   "source": [
    "min_miss_pos([5, 9, -2, 0, 1, 3, 9, 3, 8, 9])"
   ]
  },
  {
   "cell_type": "code",
   "execution_count": 19,
   "id": "745a632d",
   "metadata": {},
   "outputs": [
    {
     "data": {
      "text/plain": [
       "1"
      ]
     },
     "execution_count": 19,
     "metadata": {},
     "output_type": "execute_result"
    }
   ],
   "source": [
    "min_miss_pos([0, 4, 4, -1, 9, 4, 5, 2, 10, 7, 6, 3, 10, 9])"
   ]
  },
  {
   "cell_type": "code",
   "execution_count": null,
   "id": "895421df",
   "metadata": {},
   "outputs": [],
   "source": [
    "Q.5. Google is launching a network of autonomous pizza delivery drones and wants you to create a flexible rewards system (Pizza Points™) that can be tweaked in the future. The rules are simple: if a customer has made at least N orders of at least Y price, they get a FREE pizza!\n",
    "\n",
    "Create a function that takes a dictionary of customers, a minimum number of orders and a minimum order price. Return a list of customers that are eligible for a free pizza."
   ]
  },
  {
   "cell_type": "code",
   "execution_count": 20,
   "id": "fb6e35fc",
   "metadata": {},
   "outputs": [],
   "source": [
    "def pizza_points(customers, minOrders, minPrice):\n",
    "    \n",
    "    new=[]\n",
    "    for cust in customers:\n",
    "        x=[i for i in customers[cust] if i>minPrice]\n",
    "        if len(x)>=minOrders:\n",
    "            new.append(cust)\n",
    "    return new"
   ]
  },
  {
   "cell_type": "code",
   "execution_count": 21,
   "id": "5110c9ab",
   "metadata": {},
   "outputs": [
    {
     "data": {
      "text/plain": [
       "['Spider-Man']"
      ]
     },
     "execution_count": 21,
     "metadata": {},
     "output_type": "execute_result"
    }
   ],
   "source": [
    "customers = {\n",
    "  \"Batman\": [22, 30, 11, 17, 15, 52, 27, 12],\n",
    "  \"Spider-Man\": [5, 17, 30, 33, 40, 22, 26, 10, 11, 45]\n",
    "}\n",
    "pizza_points(customers, 5, 20)"
   ]
  },
  {
   "cell_type": "code",
   "execution_count": 22,
   "id": "bd5cb688",
   "metadata": {},
   "outputs": [
    {
     "data": {
      "text/plain": [
       "['Batman', 'Spider-Man']"
      ]
     },
     "execution_count": 22,
     "metadata": {},
     "output_type": "execute_result"
    }
   ],
   "source": [
    "pizza_points(customers, 3, 10)"
   ]
  },
  {
   "cell_type": "code",
   "execution_count": 23,
   "id": "0f120899",
   "metadata": {},
   "outputs": [
    {
     "data": {
      "text/plain": [
       "[]"
      ]
     },
     "execution_count": 23,
     "metadata": {},
     "output_type": "execute_result"
    }
   ],
   "source": [
    "pizza_points(customers, 5, 100)"
   ]
  },
  {
   "cell_type": "code",
   "execution_count": null,
   "id": "82d1ea65",
   "metadata": {},
   "outputs": [],
   "source": []
  }
 ],
 "metadata": {
  "kernelspec": {
   "display_name": "Python 3 (ipykernel)",
   "language": "python",
   "name": "python3"
  },
  "language_info": {
   "codemirror_mode": {
    "name": "ipython",
    "version": 3
   },
   "file_extension": ".py",
   "mimetype": "text/x-python",
   "name": "python",
   "nbconvert_exporter": "python",
   "pygments_lexer": "ipython3",
   "version": "3.9.7"
  }
 },
 "nbformat": 4,
 "nbformat_minor": 5
}
