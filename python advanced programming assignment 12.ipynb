{
 "cells": [
  {
   "cell_type": "code",
   "execution_count": null,
   "id": "6c4fa3ab",
   "metadata": {},
   "outputs": [],
   "source": [
    "Q.1. For this challenge, forget how to add two numbers together. The best\n",
    "\n",
    "explanation on what to do for this function is this meme:"
   ]
  },
  {
   "cell_type": "code",
   "execution_count": 1,
   "id": "5f6cb0be",
   "metadata": {},
   "outputs": [],
   "source": [
    "def appendZero(n1,n2):\n",
    "    \n",
    "    if len(n1) == len(n2):\n",
    "        pass\n",
    "    elif len(n1) > len(n2):\n",
    "        dif = len(n1) - len(n2)\n",
    "        zero = '0'*dif\n",
    "        n2 = zero+n2    \n",
    "    else:\n",
    "        dif = len(n2) - len(n1)\n",
    "        zero = '0'*dif\n",
    "        n1 = zero+n1\n",
    "\n",
    "    return n1,n2   \n",
    "\n",
    "\n",
    "def meme_sum(n1,n2):   \n",
    "\n",
    "    n1,n2 = appendZero(str(n1),str(n2))\n",
    "\n",
    "    cnt = 0\n",
    "    i = 0\n",
    "    sum = 0\n",
    "    sumtotal = ''\n",
    "    while cnt < len(n1):\n",
    "        sum = int(n1[i]) + int(n2[i])\n",
    "        sumtotal = sumtotal + str(sum)\n",
    "        i += 1\n",
    "        sum = 0\n",
    "        cnt += 1\n",
    "    return int(sumtotal)"
   ]
  },
  {
   "cell_type": "code",
   "execution_count": 2,
   "id": "871d0ce3",
   "metadata": {},
   "outputs": [
    {
     "data": {
      "text/plain": [
       "515"
      ]
     },
     "execution_count": 2,
     "metadata": {},
     "output_type": "execute_result"
    }
   ],
   "source": [
    "\n",
    "meme_sum(26, 39)"
   ]
  },
  {
   "cell_type": "code",
   "execution_count": 3,
   "id": "3e1de347",
   "metadata": {},
   "outputs": [
    {
     "data": {
      "text/plain": [
       "1103"
      ]
     },
     "execution_count": 3,
     "metadata": {},
     "output_type": "execute_result"
    }
   ],
   "source": [
    "\n",
    "meme_sum(122, 81)"
   ]
  },
  {
   "cell_type": "code",
   "execution_count": 4,
   "id": "5d2788d9",
   "metadata": {},
   "outputs": [
    {
     "data": {
      "text/plain": [
       "31499"
      ]
     },
     "execution_count": 4,
     "metadata": {},
     "output_type": "execute_result"
    }
   ],
   "source": [
    "\n",
    "meme_sum(1222, 30277)"
   ]
  },
  {
   "cell_type": "code",
   "execution_count": null,
   "id": "f0980c5e",
   "metadata": {},
   "outputs": [],
   "source": [
    "Q.2. Given an integer, create a function that returns the next prime. If the\n",
    "\n",
    "number is prime, return the number itself. Examples\n",
    "\n",
    "next_prime(12) ➞ 13 next_prime(24) ➞ 29 next_prime(11) ➞ 11"
   ]
  },
  {
   "cell_type": "code",
   "execution_count": 5,
   "id": "db726bce",
   "metadata": {},
   "outputs": [],
   "source": [
    "def isPrime(n):\n",
    "    if n==1:\n",
    "        return True\n",
    "    else:\n",
    "        for i in range(2,int(n/2)+1):\n",
    "            if n%i==0:\n",
    "                return False\n",
    "        return True\n",
    "\n",
    "def next_prime(x):\n",
    "    if isPrime(x):\n",
    "        return x\n",
    "    else:\n",
    "        while(isPrime(x)!=True):\n",
    "            x=x+1\n",
    "        return x"
   ]
  },
  {
   "cell_type": "code",
   "execution_count": 6,
   "id": "e3cd1b09",
   "metadata": {},
   "outputs": [
    {
     "data": {
      "text/plain": [
       "13"
      ]
     },
     "execution_count": 6,
     "metadata": {},
     "output_type": "execute_result"
    }
   ],
   "source": [
    "next_prime(12)"
   ]
  },
  {
   "cell_type": "code",
   "execution_count": 7,
   "id": "440d8ebf",
   "metadata": {},
   "outputs": [
    {
     "data": {
      "text/plain": [
       "29"
      ]
     },
     "execution_count": 7,
     "metadata": {},
     "output_type": "execute_result"
    }
   ],
   "source": [
    "next_prime(24)"
   ]
  },
  {
   "cell_type": "code",
   "execution_count": 8,
   "id": "576ef286",
   "metadata": {},
   "outputs": [
    {
     "data": {
      "text/plain": [
       "11"
      ]
     },
     "execution_count": 8,
     "metadata": {},
     "output_type": "execute_result"
    }
   ],
   "source": [
    "next_prime(11)"
   ]
  },
  {
   "cell_type": "code",
   "execution_count": null,
   "id": "8329dbbb",
   "metadata": {},
   "outputs": [],
   "source": [
    "\n",
    "Q. 3. If a person traveled up a hill for 18mins at 20mph and then traveled back\n",
    "\n",
    "down the same path at 60mph then their average speed traveled was 30mph. Write a function that returns the average speed traveled given an uphill time, uphill rate and a downhill rate. Uphill time is given in minutes. Return the rate as an integer (mph). No rounding is necessary. Examples ave_spd(18, 20, 60) ➞ 30 ave_spd(30, 10, 30) ➞ 15 ave_spd(30, 8, 24) ➞ 12"
   ]
  },
  {
   "cell_type": "code",
   "execution_count": 9,
   "id": "6a6da97e",
   "metadata": {},
   "outputs": [],
   "source": [
    "def ave_spd(time1,speed1,speed2):\n",
    "\n",
    "    uptime = time1/60\n",
    "    #distance\n",
    "    distance = speed1 * uptime\n",
    "    #total distance\n",
    "    totaldistance = distance*2\n",
    "    #time taken \n",
    "    timedown = distance/speed2\n",
    "    totaltime = uptime + timedown\n",
    "    totalspeed = totaldistance/totaltime\n",
    "    return totalspeed"
   ]
  },
  {
   "cell_type": "code",
   "execution_count": 10,
   "id": "e6a942f9",
   "metadata": {},
   "outputs": [
    {
     "data": {
      "text/plain": [
       "30.0"
      ]
     },
     "execution_count": 10,
     "metadata": {},
     "output_type": "execute_result"
    }
   ],
   "source": [
    "ave_spd(18, 20, 60)"
   ]
  },
  {
   "cell_type": "code",
   "execution_count": 11,
   "id": "78e1d303",
   "metadata": {},
   "outputs": [
    {
     "data": {
      "text/plain": [
       "15.0"
      ]
     },
     "execution_count": 11,
     "metadata": {},
     "output_type": "execute_result"
    }
   ],
   "source": [
    "ave_spd(30, 10, 30)"
   ]
  },
  {
   "cell_type": "code",
   "execution_count": 12,
   "id": "6866c111",
   "metadata": {},
   "outputs": [
    {
     "data": {
      "text/plain": [
       "12.0"
      ]
     },
     "execution_count": 12,
     "metadata": {},
     "output_type": "execute_result"
    }
   ],
   "source": [
    "ave_spd(30, 8, 24)"
   ]
  },
  {
   "cell_type": "code",
   "execution_count": null,
   "id": "3322af9a",
   "metadata": {},
   "outputs": [],
   "source": [
    "Q.4. The Kempner Function, applied to a composite number, permits to find the\n",
    "\n",
    "smallest integer greater than zero whose factorial is exactly divided by the number. kempner(6) ➞ 3 1! = 1 % 6 > 0 2! = 2 % 6 > 0 3! = 6 % 6 === 0 kempner(10) ➞ 5 1! = 1 % 10 > 0 2! = 2 % 10 > 0 3! = 6 % 10 > 0 4! = 24 % 10 > 0 5! = 120 % 10 === 0 A Kempner Function applied to a prime will always return the prime itself. kempner(2) ➞ 2 kempner(5) ➞ 5\n",
    "\n",
    "Given an integer n, implement a Kempner Function. Examples kempner(6) ➞ 3 kempner(10) ➞ 5 kempner(2) ➞ 2"
   ]
  },
  {
   "cell_type": "code",
   "execution_count": 13,
   "id": "fc71e2aa",
   "metadata": {},
   "outputs": [],
   "source": [
    "def isPrime(n):\n",
    "    if n==1:\n",
    "        return True\n",
    "    else:\n",
    "        for i in range(2,int(n/2)+1):\n",
    "            if n%i==0:\n",
    "                return False\n",
    "        return True\n",
    "def fact(num):\n",
    "    factorial=1\n",
    "    for i in range(1,num + 1):\n",
    "        factorial = factorial*i\n",
    "    #   print(factorial)\n",
    "    return factorial\n",
    "    \n",
    "def kempner(n):\n",
    "    if isPrime(n):\n",
    "        return n\n",
    "    else:\n",
    "        for i in range(1,n):\n",
    "            if fact(i)%n == 0:\n",
    "                return i"
   ]
  },
  {
   "cell_type": "code",
   "execution_count": 14,
   "id": "4a7f0329",
   "metadata": {},
   "outputs": [
    {
     "data": {
      "text/plain": [
       "3"
      ]
     },
     "execution_count": 14,
     "metadata": {},
     "output_type": "execute_result"
    }
   ],
   "source": [
    "kempner(6)"
   ]
  },
  {
   "cell_type": "code",
   "execution_count": 15,
   "id": "0e4fda63",
   "metadata": {},
   "outputs": [
    {
     "data": {
      "text/plain": [
       "5"
      ]
     },
     "execution_count": 15,
     "metadata": {},
     "output_type": "execute_result"
    }
   ],
   "source": [
    "kempner(10)"
   ]
  },
  {
   "cell_type": "code",
   "execution_count": 16,
   "id": "15964555",
   "metadata": {},
   "outputs": [
    {
     "data": {
      "text/plain": [
       "2"
      ]
     },
     "execution_count": 16,
     "metadata": {},
     "output_type": "execute_result"
    }
   ],
   "source": [
    "kempner(2)"
   ]
  },
  {
   "cell_type": "code",
   "execution_count": null,
   "id": "3d3d93e7",
   "metadata": {},
   "outputs": [],
   "source": [
    "Q. 5. You work in a factory, and your job is to take items from a conveyor belt\n",
    "\n",
    "and pack them into boxes. Each box can hold a maximum of 10 kgs. Given a list containing the weight (in kg) of each item, how many boxes would you need to pack all of the items?"
   ]
  },
  {
   "cell_type": "code",
   "execution_count": 17,
   "id": "ef93a71f",
   "metadata": {},
   "outputs": [],
   "source": [
    "def boxes(q):\n",
    "    l = len(q)\n",
    "    i = 0\n",
    "    a = []\n",
    "    box=[]\n",
    "    while l :\n",
    "        if sum(a)  <=  10 :\n",
    "            a.append(q[i])\n",
    "            i = i + 1\n",
    "            l = l - 1   \n",
    "        elif sum(a) > 10:\n",
    "            box.append(a[:-1:])\n",
    "            i = i - 1\n",
    "            l = l + 1\n",
    "            a.clear()\n",
    "    box.append(a)\n",
    "\n",
    "    print(\"We need {} boxes\".format(len(box)))\n",
    "    for i in range(len(box)):\n",
    "        print(\"Box{} has {}, and {}kgs\".format(i+1,box[i],sum(box[i])))"
   ]
  },
  {
   "cell_type": "code",
   "execution_count": 18,
   "id": "88ba112c",
   "metadata": {},
   "outputs": [
    {
     "name": "stdout",
     "output_type": "stream",
     "text": [
      "We need 5 boxes\n",
      "Box1 has [2, 1, 2, 5], and 10kgs\n",
      "Box2 has [4, 3], and 7kgs\n",
      "Box3 has [6, 1, 1], and 8kgs\n",
      "Box4 has [9], and 9kgs\n",
      "Box5 has [3, 2], and 5kgs\n"
     ]
    }
   ],
   "source": [
    "boxes([2, 1, 2, 5, 4, 3, 6, 1, 1, 9, 3, 2])"
   ]
  },
  {
   "cell_type": "code",
   "execution_count": 19,
   "id": "cb6f624f",
   "metadata": {},
   "outputs": [
    {
     "name": "stdout",
     "output_type": "stream",
     "text": [
      "We need 5 boxes\n",
      "Box1 has [3, 4], and 7kgs\n",
      "Box2 has [5, 2], and 7kgs\n",
      "Box3 has [5, 4], and 9kgs\n",
      "Box4 has [8, 1], and 9kgs\n",
      "Box5 has [2, 3], and 5kgs\n"
     ]
    }
   ],
   "source": [
    "boxes([3,4,5,2,5,4,8,1,2,3])"
   ]
  },
  {
   "cell_type": "code",
   "execution_count": null,
   "id": "e417bfd3",
   "metadata": {},
   "outputs": [],
   "source": []
  }
 ],
 "metadata": {
  "kernelspec": {
   "display_name": "Python 3 (ipykernel)",
   "language": "python",
   "name": "python3"
  },
  "language_info": {
   "codemirror_mode": {
    "name": "ipython",
    "version": 3
   },
   "file_extension": ".py",
   "mimetype": "text/x-python",
   "name": "python",
   "nbconvert_exporter": "python",
   "pygments_lexer": "ipython3",
   "version": "3.9.7"
  }
 },
 "nbformat": 4,
 "nbformat_minor": 5
}
