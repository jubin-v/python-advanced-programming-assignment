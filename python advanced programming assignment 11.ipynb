{
 "cells": [
  {
   "cell_type": "code",
   "execution_count": null,
   "id": "01b4b68b",
   "metadata": {},
   "outputs": [],
   "source": [
    "Q. 1. Create a function that takes a list and returns a new list containing only\n",
    "\n",
    "prime numbers. Examples filter_primes([7, 9, 3, 9, 10, 11, 27]) ➞ [7, 3, 11] filter_primes([10007, 1009, 1007, 27, 147, 77, 1001, 70]) ➞ [10007, 1009] filter_primes([1009, 10, 10, 10, 3, 33, 9, 4, 1, 61, 63, 69, 1087, 1091, 1093, 1097]) ➞ [1009, 3, 61, 1087, 1091, 1093, 1097]"
   ]
  },
  {
   "cell_type": "code",
   "execution_count": 1,
   "id": "ea177584",
   "metadata": {},
   "outputs": [],
   "source": [
    "def isPrime(num1): \n",
    "    if num1 > 1:\n",
    "        for i in range(2,num1):\n",
    "            if (num1%i) == 0:\n",
    "                #print(num1,'is not a prime')                \n",
    "                break\n",
    "        else:\n",
    "            return True\n",
    "    else:\n",
    "        return False\n",
    "    \n",
    "def filter_primes(lst):\n",
    "    new_lst = [i for i in lst if isPrime(i)]\n",
    "    return new_lst"
   ]
  },
  {
   "cell_type": "code",
   "execution_count": 2,
   "id": "44c9df38",
   "metadata": {},
   "outputs": [
    {
     "data": {
      "text/plain": [
       "[7, 3, 11]"
      ]
     },
     "execution_count": 2,
     "metadata": {},
     "output_type": "execute_result"
    }
   ],
   "source": [
    "filter_primes([7, 9, 3, 9, 10, 11, 27])"
   ]
  },
  {
   "cell_type": "code",
   "execution_count": 3,
   "id": "3b2cc200",
   "metadata": {},
   "outputs": [
    {
     "data": {
      "text/plain": [
       "[10007, 1009]"
      ]
     },
     "execution_count": 3,
     "metadata": {},
     "output_type": "execute_result"
    }
   ],
   "source": [
    "filter_primes([10007, 1009, 1007, 27, 147, 77, 1001, 70])"
   ]
  },
  {
   "cell_type": "code",
   "execution_count": 4,
   "id": "10166b38",
   "metadata": {},
   "outputs": [
    {
     "data": {
      "text/plain": [
       "[1009, 3, 61, 1087, 1091, 1093, 1097]"
      ]
     },
     "execution_count": 4,
     "metadata": {},
     "output_type": "execute_result"
    }
   ],
   "source": [
    "[10007, 1009]\n",
    "filter_primes([1009, 10, 10, 10, 3, 33, 9, 4, 1, 61, 63, 69, 1087, 1091, 1093,1097])"
   ]
  },
  {
   "cell_type": "code",
   "execution_count": null,
   "id": "689e7a66",
   "metadata": {},
   "outputs": [],
   "source": [
    "Q. 2. Once a water balloon pops, is soaks the area around it. The ground gets\n",
    "\n",
    "drier the further away you travel from the balloon. The effect of a water balloon popping can be modeled using a list. Create a function that takes a list which takes the pre-pop state and returns the state after the balloon is popped. The pre-pop state will contain at most a single balloon, whose size is represented by the only non-zero element. Examples pop([0, 0, 0, 0, 4, 0, 0, 0, 0]) ➞ [0, 1, 2, 3, 4, 3, 2, 1, 0] pop([0, 0, 0, 3, 0, 0, 0]) ➞ [0, 1, 2, 3, 2, 1, 0] pop([0, 0, 2, 0, 0]) ➞ [0, 1, 2, 1, 0] pop([0]) ➞ [0]"
   ]
  },
  {
   "cell_type": "code",
   "execution_count": 5,
   "id": "d4889684",
   "metadata": {},
   "outputs": [],
   "source": [
    "def pop(lst):\n",
    "    length = len(lst)//2\n",
    "    fw = bw = length\n",
    "    while(bw > 0):\n",
    "        lst[bw] = length \n",
    "        lst[fw] = length\n",
    "        bw -= 1\n",
    "        fw += 1\n",
    "        length -= 1\n",
    "    return lst"
   ]
  },
  {
   "cell_type": "code",
   "execution_count": 6,
   "id": "a9c5a168",
   "metadata": {},
   "outputs": [
    {
     "data": {
      "text/plain": [
       "[0, 1, 2, 3, 4, 3, 2, 1, 0]"
      ]
     },
     "execution_count": 6,
     "metadata": {},
     "output_type": "execute_result"
    }
   ],
   "source": [
    "pop([0, 0, 0, 0, 4, 0, 0, 0, 0])"
   ]
  },
  {
   "cell_type": "code",
   "execution_count": 7,
   "id": "38dcff61",
   "metadata": {},
   "outputs": [
    {
     "data": {
      "text/plain": [
       "[0, 1, 2, 3, 2, 1, 0]"
      ]
     },
     "execution_count": 7,
     "metadata": {},
     "output_type": "execute_result"
    }
   ],
   "source": [
    "pop([0, 0, 0, 3, 0, 0, 0])"
   ]
  },
  {
   "cell_type": "code",
   "execution_count": 8,
   "id": "736bf04c",
   "metadata": {},
   "outputs": [
    {
     "data": {
      "text/plain": [
       "[0, 1, 2, 1, 0]"
      ]
     },
     "execution_count": 8,
     "metadata": {},
     "output_type": "execute_result"
    }
   ],
   "source": [
    "pop([0, 0, 2, 0, 0])"
   ]
  },
  {
   "cell_type": "code",
   "execution_count": 9,
   "id": "023301cc",
   "metadata": {},
   "outputs": [
    {
     "data": {
      "text/plain": [
       "[0]"
      ]
     },
     "execution_count": 9,
     "metadata": {},
     "output_type": "execute_result"
    }
   ],
   "source": [
    "pop([0])"
   ]
  },
  {
   "cell_type": "code",
   "execution_count": null,
   "id": "27c514a9",
   "metadata": {},
   "outputs": [],
   "source": [
    "Q. 3. 'Loves me, loves me not' is a traditional game in which a person plucks off\n",
    "\n",
    "all the petals of a flower one by one, saying the phrase 'Loves me' and 'Loves me not' when determining whether the one that they love, loves them back. Given a number of petals, return a string which repeats the phrases 'Loves me' and 'Loves me not' for every alternating petal, and return the last phrase in all caps. Remember to put a comma and space between phrases. Examples loves_me(3) ➞ 'Loves me, Loves me not, LOVES ME' loves_me(6) ➞ 'Loves me, Loves me not, Loves me, Loves me not, Loves me, LOVES ME NOT'\n",
    "\n",
    "loves_me(1) ➞ 'LOVES ME'"
   ]
  },
  {
   "cell_type": "code",
   "execution_count": 10,
   "id": "225e3525",
   "metadata": {},
   "outputs": [],
   "source": [
    "def loves_me(n):\n",
    "    lst =[]\n",
    "    for i in range(1,n+1):\n",
    "        if i % 2 == 0:\n",
    "            lst.append(\"Loves me not\")\n",
    "        else:\n",
    "            lst.append(\"Loves me\")\n",
    "\n",
    "    lst[-1] = lst[-1].upper()\n",
    "    return \", \".join(lst)"
   ]
  },
  {
   "cell_type": "code",
   "execution_count": 11,
   "id": "860d028c",
   "metadata": {},
   "outputs": [
    {
     "data": {
      "text/plain": [
       "'Loves me, Loves me not, LOVES ME'"
      ]
     },
     "execution_count": 11,
     "metadata": {},
     "output_type": "execute_result"
    }
   ],
   "source": [
    "loves_me(3)"
   ]
  },
  {
   "cell_type": "code",
   "execution_count": 12,
   "id": "e2ef514e",
   "metadata": {},
   "outputs": [
    {
     "data": {
      "text/plain": [
       "'Loves me, Loves me not, Loves me, Loves me not, Loves me, LOVES ME NOT'"
      ]
     },
     "execution_count": 12,
     "metadata": {},
     "output_type": "execute_result"
    }
   ],
   "source": [
    "\n",
    "loves_me(6)"
   ]
  },
  {
   "cell_type": "code",
   "execution_count": 13,
   "id": "9f5a5717",
   "metadata": {},
   "outputs": [
    {
     "data": {
      "text/plain": [
       "'LOVES ME'"
      ]
     },
     "execution_count": 13,
     "metadata": {},
     "output_type": "execute_result"
    }
   ],
   "source": [
    "loves_me(1)"
   ]
  },
  {
   "cell_type": "code",
   "execution_count": null,
   "id": "833fc508",
   "metadata": {},
   "outputs": [],
   "source": [
    "Q. 4. Write a function that sorts each string in a list by the letter in alphabetic\n",
    "\n",
    "ascending order (a-z). Examples sort_by_letter(['932c', '832u32', '2344b']) ➞ ['2344b', '932c', '832u32'] sort_by_letter(['99a', '78b', 'c2345', '11d']) ➞ ['99a', '78b', 'c2345', '11d'] sort_by_letter(['572z', '5y5', '304q2']) ➞ ['304q2', '5y5', '572z'] sort_by_letter([]) ➞ []"
   ]
  },
  {
   "cell_type": "code",
   "execution_count": 14,
   "id": "2e8f6f1f",
   "metadata": {},
   "outputs": [],
   "source": [
    "def f_l(w):\n",
    "    for j in w:\n",
    "        if j.isalpha():\n",
    "            x=j\n",
    "            # print(x)\n",
    "    return x\n",
    "\n",
    "\n",
    "def sort_by_letter(l):\n",
    "    if len(l)>0:\n",
    "        m = l[0]\n",
    "        for i in range(len(l)-1):\n",
    "            for j in range(i+1,len(l)):\n",
    "                if ord(f_l(l[i])) > ord(f_l(l[j])):\n",
    "                    temp = l[i]\n",
    "                    l[i]=l[j]\n",
    "                    l[j]=temp\n",
    "    return l"
   ]
  },
  {
   "cell_type": "code",
   "execution_count": 15,
   "id": "afca7d91",
   "metadata": {},
   "outputs": [
    {
     "data": {
      "text/plain": [
       "['2344b', '932c', '832u32']"
      ]
     },
     "execution_count": 15,
     "metadata": {},
     "output_type": "execute_result"
    }
   ],
   "source": [
    "sort_by_letter(['932c', '832u32', '2344b'])"
   ]
  },
  {
   "cell_type": "code",
   "execution_count": 16,
   "id": "ae44fcdc",
   "metadata": {},
   "outputs": [
    {
     "data": {
      "text/plain": [
       "['99a', '78b', 'c2345', '11d']"
      ]
     },
     "execution_count": 16,
     "metadata": {},
     "output_type": "execute_result"
    }
   ],
   "source": [
    "\n",
    "sort_by_letter(['99a', '78b', 'c2345', '11d'])"
   ]
  },
  {
   "cell_type": "code",
   "execution_count": 17,
   "id": "77035c13",
   "metadata": {},
   "outputs": [
    {
     "data": {
      "text/plain": [
       "['304q2', '5y5', '572z']"
      ]
     },
     "execution_count": 17,
     "metadata": {},
     "output_type": "execute_result"
    }
   ],
   "source": [
    "sort_by_letter(['572z', '5y5', '304q2'])"
   ]
  },
  {
   "cell_type": "code",
   "execution_count": 18,
   "id": "0345327e",
   "metadata": {},
   "outputs": [
    {
     "data": {
      "text/plain": [
       "[]"
      ]
     },
     "execution_count": 18,
     "metadata": {},
     "output_type": "execute_result"
    }
   ],
   "source": [
    "\n",
    "sort_by_letter([])"
   ]
  },
  {
   "cell_type": "code",
   "execution_count": null,
   "id": "836ffe80",
   "metadata": {},
   "outputs": [],
   "source": [
    "Q.5. There are three cups on a table, at positions A, B, and C. At the start, there\n",
    "\n",
    "is a ball hidden under the cup at position B.\n",
    "\n",
    "However, I perform several swaps on the cups, which is notated as two letters. For example, if I swap the cups at positions A and B, I could notate this as AB or BA. Create a function that returns the letter position that the ball is at, once I finish swapping the cups. The swaps will be given to you as a list."
   ]
  },
  {
   "cell_type": "code",
   "execution_count": 19,
   "id": "a1d34435",
   "metadata": {},
   "outputs": [
    {
     "name": "stdout",
     "output_type": "stream",
     "text": [
      "C\n"
     ]
    }
   ],
   "source": [
    "def cup_swapping(l):\n",
    "    for i in l:\n",
    "        if \"B\" in i:\n",
    "            ball= i.replace('B', '')\n",
    "            y=+1\n",
    "            break\n",
    "    for j in range(y,len(l)):\n",
    "        if ball in l[j]:\n",
    "            ball = l[j].replace(ball,'')\n",
    "    return ball\n",
    "\n",
    "print(cup_swapping(['CA','AB', 'CA', 'CB','AB']))"
   ]
  },
  {
   "cell_type": "code",
   "execution_count": null,
   "id": "b2254637",
   "metadata": {},
   "outputs": [],
   "source": []
  }
 ],
 "metadata": {
  "kernelspec": {
   "display_name": "Python 3 (ipykernel)",
   "language": "python",
   "name": "python3"
  },
  "language_info": {
   "codemirror_mode": {
    "name": "ipython",
    "version": 3
   },
   "file_extension": ".py",
   "mimetype": "text/x-python",
   "name": "python",
   "nbconvert_exporter": "python",
   "pygments_lexer": "ipython3",
   "version": "3.9.7"
  }
 },
 "nbformat": 4,
 "nbformat_minor": 5
}
