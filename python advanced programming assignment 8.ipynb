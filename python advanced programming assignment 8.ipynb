{
 "cells": [
  {
   "cell_type": "code",
   "execution_count": null,
   "id": "da974578",
   "metadata": {},
   "outputs": [],
   "source": [
    "Q. 1. Given a sentence as txt, return True if any two adjacent words have this\n",
    "\n",
    "property: One word ends with a vowel, while the word immediately after begins with a vowel (a e i o u). Examples vowel_links('a very large appliance') ➞ True vowel_links('go to edabit') ➞ True vowel_links('an open fire') ➞ False vowel_links('a sudden applause') ➞ False"
   ]
  },
  {
   "cell_type": "code",
   "execution_count": 1,
   "id": "e2827c2c",
   "metadata": {},
   "outputs": [],
   "source": [
    "def vowel_links(txt):   \n",
    "\n",
    "    vowel = 'aeiou'                        # check the vowels\n",
    "    lst = txt.split(\" \")                   # split the texts in the list\n",
    "\n",
    "    found = False                          # lets set we have not met the condition\n",
    "    i = 0\n",
    "    j = 0\n",
    "    while i < len(lst)-1:                  # loops through the list elements\n",
    "        j = i + 1    \n",
    "        vl = lst[i][-1]\n",
    "        vf = lst[j][0]\n",
    "        if vl in vowel and vf in vowel:     # if last letter ends with vowel and first letter stats with vowel and adjacent words\n",
    "            found = True\n",
    "        i += 1\n",
    "        j += 1\n",
    "    return found"
   ]
  },
  {
   "cell_type": "code",
   "execution_count": 2,
   "id": "581e0338",
   "metadata": {},
   "outputs": [
    {
     "data": {
      "text/plain": [
       "True"
      ]
     },
     "execution_count": 2,
     "metadata": {},
     "output_type": "execute_result"
    }
   ],
   "source": [
    "\n",
    "vowel_links('a very large appliance')"
   ]
  },
  {
   "cell_type": "code",
   "execution_count": 3,
   "id": "0e9f5951",
   "metadata": {},
   "outputs": [
    {
     "data": {
      "text/plain": [
       "True"
      ]
     },
     "execution_count": 3,
     "metadata": {},
     "output_type": "execute_result"
    }
   ],
   "source": [
    "vowel_links('go to edabit')"
   ]
  },
  {
   "cell_type": "code",
   "execution_count": 4,
   "id": "36629d76",
   "metadata": {},
   "outputs": [
    {
     "data": {
      "text/plain": [
       "False"
      ]
     },
     "execution_count": 4,
     "metadata": {},
     "output_type": "execute_result"
    }
   ],
   "source": [
    "\n",
    "vowel_links('an open fire')"
   ]
  },
  {
   "cell_type": "code",
   "execution_count": 5,
   "id": "821a6588",
   "metadata": {},
   "outputs": [
    {
     "data": {
      "text/plain": [
       "False"
      ]
     },
     "execution_count": 5,
     "metadata": {},
     "output_type": "execute_result"
    }
   ],
   "source": [
    "vowel_links('a sudden applause')"
   ]
  },
  {
   "cell_type": "code",
   "execution_count": null,
   "id": "0a5ad15a",
   "metadata": {},
   "outputs": [],
   "source": [
    "Q. 2. You are given three inputs: a string, one letter, and a second letter.\n",
    "\n",
    "Write a function that returns True if every instance of the first letter occurs before every instance of the second letter. Examples first_before_second('a rabbit jumps joyfully', 'a', 'j') ➞ True Every instance of 'a' occurs before every instance of 'j'. first_before_second('knaves knew about waterfalls', 'k', 'w') ➞ True first_before_second('happy birthday', 'a', 'y') ➞ False The 'a' in 'birthday' occurs after the 'y' in 'happy'. first_before_second('precarious kangaroos', 'k', 'a') ➞ False"
   ]
  },
  {
   "cell_type": "code",
   "execution_count": 6,
   "id": "7e52f471",
   "metadata": {},
   "outputs": [],
   "source": [
    "def findIdx(text,s):\n",
    "    lst= []\n",
    "    for i in range(len(text)):\n",
    "        if (text[i] == s):\n",
    "            lst.append(i)\n",
    "    return lst\n",
    "\n",
    "def findidxDiff(list1,list2):\n",
    "    found = False\n",
    "    for i in list1:\n",
    "        for j in list2:\n",
    "            if i < j :\n",
    "                found = True\n",
    "            else:\n",
    "                found = False\n",
    "                break\n",
    "    return found\n",
    "\n",
    "\n",
    "def first_before_second(text,ch1,ch2):\n",
    "    idxCh1 = findIdx(text,ch1)\n",
    "    idxCh2 = findIdx(text,ch2)\n",
    "    print(\"Indexs of first letter {} is/are {}: \".format(ch1,idxCh1))\n",
    "    print(\"Indexs of Second letter {} is/are {}: \".format(ch2,idxCh2))\n",
    "    return findidxDiff(idxCh1,idxCh2)"
   ]
  },
  {
   "cell_type": "code",
   "execution_count": 7,
   "id": "8f952c25",
   "metadata": {},
   "outputs": [
    {
     "name": "stdout",
     "output_type": "stream",
     "text": [
      "Indexs of first letter a is/are [0, 3]: \n",
      "Indexs of Second letter j is/are [9, 15]: \n"
     ]
    },
    {
     "data": {
      "text/plain": [
       "True"
      ]
     },
     "execution_count": 7,
     "metadata": {},
     "output_type": "execute_result"
    }
   ],
   "source": [
    "first_before_second('a rabbit jumps joyfully', 'a', 'j')"
   ]
  },
  {
   "cell_type": "code",
   "execution_count": 8,
   "id": "dd638ad1",
   "metadata": {},
   "outputs": [
    {
     "name": "stdout",
     "output_type": "stream",
     "text": [
      "Indexs of first letter k is/are [0, 7]: \n",
      "Indexs of Second letter w is/are [10, 18]: \n"
     ]
    },
    {
     "data": {
      "text/plain": [
       "True"
      ]
     },
     "execution_count": 8,
     "metadata": {},
     "output_type": "execute_result"
    }
   ],
   "source": [
    "first_before_second('knaves knew about waterfalls', 'k', 'w')"
   ]
  },
  {
   "cell_type": "code",
   "execution_count": 9,
   "id": "0ed493e8",
   "metadata": {},
   "outputs": [
    {
     "name": "stdout",
     "output_type": "stream",
     "text": [
      "Indexs of first letter a is/are [1, 12]: \n",
      "Indexs of Second letter y is/are [4, 13]: \n"
     ]
    },
    {
     "data": {
      "text/plain": [
       "False"
      ]
     },
     "execution_count": 9,
     "metadata": {},
     "output_type": "execute_result"
    }
   ],
   "source": [
    "first_before_second('happy birthday', 'a', 'y')"
   ]
  },
  {
   "cell_type": "code",
   "execution_count": 10,
   "id": "518a5176",
   "metadata": {},
   "outputs": [
    {
     "name": "stdout",
     "output_type": "stream",
     "text": [
      "Indexs of first letter k is/are [11]: \n",
      "Indexs of Second letter a is/are [4, 12, 15]: \n"
     ]
    },
    {
     "data": {
      "text/plain": [
       "False"
      ]
     },
     "execution_count": 10,
     "metadata": {},
     "output_type": "execute_result"
    }
   ],
   "source": [
    "\n",
    "first_before_second('precarious kangaroos', 'k', 'a')"
   ]
  },
  {
   "cell_type": "code",
   "execution_count": null,
   "id": "1cb4cbfa",
   "metadata": {},
   "outputs": [],
   "source": [
    "Q. 3. Create a function that returns the characters from a list or string r on odd or\n",
    "\n",
    "even positions, depending on the specifier s. The specifier will be 'odd' for items on odd positions (1, 3, 5, ...) and 'even' for items on even positions (2, 4, 6, ...). Examples char_at_pos([2, 4, 6, 8, 10], 'even') ➞ [4, 8] 4 & 8 occupy the 2nd & 4th positions char_at_pos('EDABIT', 'odd') ➞ 'EAI' 'E', 'A' and 'I' occupy the 1st, 3rd and 5th positions\n",
    "\n",
    "char_at_pos(['A', 'R', 'B', 'I', 'T', 'R', 'A', 'R', 'I', 'L', 'Y'], 'odd') ➞ ['A', 'B', 'T', 'A', 'I', 'Y']"
   ]
  },
  {
   "cell_type": "code",
   "execution_count": 11,
   "id": "138484c8",
   "metadata": {},
   "outputs": [],
   "source": [
    "def char_at_pos(data,specifier):\n",
    "\n",
    "    resultlist = []\n",
    "    if specifier == 'odd':\n",
    "        for i in range(len(data)):\n",
    "            i = i+1\n",
    "            if i % 2 != 0 :\n",
    "                resultlist.append(data[i-1])\n",
    "    elif specifier == 'even':\n",
    "        for i in range(len(data)):\n",
    "            i = i+1\n",
    "            if i % 2 == 0 :\n",
    "                resultlist.append(data[i-1])\n",
    "\n",
    "    if type(data) == str:\n",
    "        return ''.join(resultlist)\n",
    "    else:\n",
    "        return resultlist"
   ]
  },
  {
   "cell_type": "code",
   "execution_count": 12,
   "id": "62fcfabf",
   "metadata": {},
   "outputs": [
    {
     "data": {
      "text/plain": [
       "[4, 8]"
      ]
     },
     "execution_count": 12,
     "metadata": {},
     "output_type": "execute_result"
    }
   ],
   "source": [
    "\n",
    "char_at_pos([2, 4, 6, 8, 10], 'even')"
   ]
  },
  {
   "cell_type": "code",
   "execution_count": 13,
   "id": "8825b6c9",
   "metadata": {},
   "outputs": [
    {
     "data": {
      "text/plain": [
       "'EAI'"
      ]
     },
     "execution_count": 13,
     "metadata": {},
     "output_type": "execute_result"
    }
   ],
   "source": [
    "char_at_pos('EDABIT', 'odd')"
   ]
  },
  {
   "cell_type": "code",
   "execution_count": 14,
   "id": "e953460f",
   "metadata": {},
   "outputs": [
    {
     "data": {
      "text/plain": [
       "['A', 'B', 'T', 'A', 'I', 'Y']"
      ]
     },
     "execution_count": 14,
     "metadata": {},
     "output_type": "execute_result"
    }
   ],
   "source": [
    "char_at_pos(['A', 'R', 'B', 'I', 'T', 'R', 'A', 'R', 'I', 'L', 'Y'], 'odd')"
   ]
  },
  {
   "cell_type": "code",
   "execution_count": null,
   "id": "5880950c",
   "metadata": {},
   "outputs": [],
   "source": [
    "Q. 4. Write a function that returns the greatest common divisor of all list\n",
    "\n",
    "elements. If the greatest common divisor is 1, return 1. Examples GCD([10, 20, 40]) ➞ 10 GCD([1, 2, 3, 100]) ➞ 1 GCD([1024, 192, 2048, 512]) ➞ 64"
   ]
  },
  {
   "cell_type": "code",
   "execution_count": 15,
   "id": "818eec1f",
   "metadata": {},
   "outputs": [],
   "source": [
    "def find_gcd(x, y):\n",
    "    while(y):\n",
    "        x, y = y, x % y  \n",
    "    return x      \n",
    "      \n",
    "def GCD(data):\n",
    "    \n",
    "    num1=data[0]\n",
    "    num2=data[1]\n",
    "    gcd=find_gcd(num1,num2)\n",
    "\n",
    "    for i in range(2,len(data)):\n",
    "        gcd=find_gcd(gcd,data[i])\n",
    "\n",
    "    return gcd"
   ]
  },
  {
   "cell_type": "code",
   "execution_count": 16,
   "id": "6c97b8d0",
   "metadata": {},
   "outputs": [
    {
     "data": {
      "text/plain": [
       "10"
      ]
     },
     "execution_count": 16,
     "metadata": {},
     "output_type": "execute_result"
    }
   ],
   "source": [
    "GCD([10, 20, 40])"
   ]
  },
  {
   "cell_type": "code",
   "execution_count": 17,
   "id": "ce4728c9",
   "metadata": {},
   "outputs": [
    {
     "data": {
      "text/plain": [
       "1"
      ]
     },
     "execution_count": 17,
     "metadata": {},
     "output_type": "execute_result"
    }
   ],
   "source": [
    "GCD([1, 2, 3, 100])"
   ]
  },
  {
   "cell_type": "code",
   "execution_count": 18,
   "id": "e2b8b146",
   "metadata": {},
   "outputs": [
    {
     "data": {
      "text/plain": [
       "64"
      ]
     },
     "execution_count": 18,
     "metadata": {},
     "output_type": "execute_result"
    }
   ],
   "source": [
    "GCD([1024, 192, 2048, 512])"
   ]
  },
  {
   "cell_type": "code",
   "execution_count": null,
   "id": "84f440c7",
   "metadata": {},
   "outputs": [],
   "source": [
    "Q. 5. A number/string is a palindrome if the digits/characters are the same when\n",
    "\n",
    "read both forward and backward. Examples include 'racecar' and 12321. Given a positive number n, check if n or the binary representation of n is palindromic. Return the following:\n",
    "\n",
    "'Decimal only.' if only n is a palindrome.\n",
    "'Binary only.' if only the binary representation of n is a palindrome.\n",
    "'Decimal and binary.' if both are palindromes.\n",
    "'Neither!' if neither are palindromes."
   ]
  },
  {
   "cell_type": "code",
   "execution_count": 19,
   "id": "180f8c9d",
   "metadata": {},
   "outputs": [],
   "source": [
    "def is_symmetrical(num):\n",
    "    currentDigit = reversedDigit = 0\n",
    "    remainingNum = num\n",
    "    while(remainingNum != 0):\n",
    "\n",
    "        currentDigit = remainingNum % 10\n",
    "\n",
    "        reversedDigit = reversedDigit * 10 + currentDigit\n",
    "        remainingNum = remainingNum // 10\n",
    "\n",
    "    if reversedDigit == num:\n",
    "        print('Num {} is palindromic'.format(num))\n",
    "        return True\n",
    "    else:\n",
    "        print('Num {} is not palindromic'.format(num))\n",
    "        return False\n",
    "\n",
    "def palindrome_type(num):\n",
    "    \n",
    "    binNum = int(str(bin(num))[2::]) # change num to bin number\n",
    "    print(\"The number - \", num)\n",
    "    print(num,\" in binary\", binNum)\n",
    "    decCheck = is_symmetrical(num)\n",
    "    binCheck = is_symmetrical(binNum)\n",
    "    msg = ''\n",
    "    if decCheck and binCheck:\n",
    "        msg = 'Decimal and binary.'\n",
    "    elif decCheck and not binCheck:\n",
    "        msg = 'Decimal only.'\n",
    "    elif not decCheck and binCheck:\n",
    "        msg = 'Binary only.'\n",
    "    else:\n",
    "        msg = 'Neither!'\n",
    "\n",
    "    return msg"
   ]
  },
  {
   "cell_type": "code",
   "execution_count": 20,
   "id": "60aa4e4a",
   "metadata": {},
   "outputs": [
    {
     "name": "stdout",
     "output_type": "stream",
     "text": [
      "The number -  1306031\n",
      "1306031  in binary 100111110110110101111\n",
      "Num 1306031 is palindromic\n",
      "Num 100111110110110101111 is not palindromic\n"
     ]
    },
    {
     "data": {
      "text/plain": [
       "'Decimal only.'"
      ]
     },
     "execution_count": 20,
     "metadata": {},
     "output_type": "execute_result"
    }
   ],
   "source": [
    "\n",
    "palindrome_type(1306031)"
   ]
  },
  {
   "cell_type": "code",
   "execution_count": 21,
   "id": "dff56b5f",
   "metadata": {},
   "outputs": [
    {
     "name": "stdout",
     "output_type": "stream",
     "text": [
      "The number -  427787\n",
      "427787  in binary 1101000011100001011\n",
      "Num 427787 is not palindromic\n",
      "Num 1101000011100001011 is palindromic\n"
     ]
    },
    {
     "data": {
      "text/plain": [
       "'Binary only.'"
      ]
     },
     "execution_count": 21,
     "metadata": {},
     "output_type": "execute_result"
    }
   ],
   "source": [
    "palindrome_type(427787)"
   ]
  },
  {
   "cell_type": "code",
   "execution_count": 22,
   "id": "d6a0ec1e",
   "metadata": {},
   "outputs": [
    {
     "name": "stdout",
     "output_type": "stream",
     "text": [
      "The number -  313\n",
      "313  in binary 100111001\n",
      "Num 313 is palindromic\n",
      "Num 100111001 is palindromic\n"
     ]
    },
    {
     "data": {
      "text/plain": [
       "'Decimal and binary.'"
      ]
     },
     "execution_count": 22,
     "metadata": {},
     "output_type": "execute_result"
    }
   ],
   "source": [
    "palindrome_type(313)"
   ]
  },
  {
   "cell_type": "code",
   "execution_count": 23,
   "id": "53b7e3c3",
   "metadata": {},
   "outputs": [
    {
     "name": "stdout",
     "output_type": "stream",
     "text": [
      "The number -  934\n",
      "934  in binary 1110100110\n",
      "Num 934 is not palindromic\n",
      "Num 1110100110 is not palindromic\n"
     ]
    },
    {
     "data": {
      "text/plain": [
       "'Neither!'"
      ]
     },
     "execution_count": 23,
     "metadata": {},
     "output_type": "execute_result"
    }
   ],
   "source": [
    "palindrome_type(934)"
   ]
  },
  {
   "cell_type": "code",
   "execution_count": null,
   "id": "cf38c42c",
   "metadata": {},
   "outputs": [],
   "source": []
  }
 ],
 "metadata": {
  "kernelspec": {
   "display_name": "Python 3 (ipykernel)",
   "language": "python",
   "name": "python3"
  },
  "language_info": {
   "codemirror_mode": {
    "name": "ipython",
    "version": 3
   },
   "file_extension": ".py",
   "mimetype": "text/x-python",
   "name": "python",
   "nbconvert_exporter": "python",
   "pygments_lexer": "ipython3",
   "version": "3.9.7"
  }
 },
 "nbformat": 4,
 "nbformat_minor": 5
}
